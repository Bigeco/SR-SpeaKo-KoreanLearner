{
 "cells": [
  {
   "cell_type": "code",
   "execution_count": 1,
   "id": "8ae68495-7e0f-4308-b63a-f1d09f2850c7",
   "metadata": {},
   "outputs": [
    {
     "name": "stderr",
     "output_type": "stream",
     "text": [
      "/home/pasong/miniconda3/envs/cosyvoice/lib/python3.10/site-packages/tqdm/auto.py:21: TqdmWarning: IProgress not found. Please update jupyter and ipywidgets. See https://ipywidgets.readthedocs.io/en/stable/user_install.html\n",
      "  from .autonotebook import tqdm as notebook_tqdm\n"
     ]
    }
   ],
   "source": [
    "import sys\n",
    "sys.path.append('third_party/Matcha-TTS')\n",
    "from cosyvoice.cli.cosyvoice import CosyVoice, CosyVoice2\n",
    "from cosyvoice.utils.file_utils import load_wav\n",
    "import torchaudio"
   ]
  },
  {
   "cell_type": "code",
   "execution_count": 2,
   "id": "6a38d09e-c3a2-43cf-a684-0fd3b47e4b09",
   "metadata": {},
   "outputs": [
    {
     "name": "stderr",
     "output_type": "stream",
     "text": [
      "/home/pasong/miniconda3/envs/cosyvoice/lib/python3.10/site-packages/diffusers/models/lora.py:393: FutureWarning: `LoRACompatibleLinear` is deprecated and will be removed in version 1.0.0. Use of `LoRACompatibleLinear` is deprecated. Please switch to PEFT backend by installing PEFT: `pip install peft`.\n",
      "  deprecate(\"LoRACompatibleLinear\", \"1.0.0\", deprecation_message)\n",
      "2025-04-19 19:46:33,344 INFO input frame rate=25\n",
      "/home/pasong/miniconda3/envs/cosyvoice/lib/python3.10/site-packages/torch/nn/utils/weight_norm.py:28: UserWarning: torch.nn.utils.weight_norm is deprecated in favor of torch.nn.utils.parametrizations.weight_norm.\n",
      "  warnings.warn(\"torch.nn.utils.weight_norm is deprecated in favor of torch.nn.utils.parametrizations.weight_norm.\")\n",
      "Special tokens have been added in the vocabulary, make sure the associated word embeddings are fine-tuned or trained.\n",
      "Special tokens have been added in the vocabulary, make sure the associated word embeddings are fine-tuned or trained.\n",
      "\u001b[0;93m2025-04-19 19:46:35.693712543 [W:onnxruntime:, transformer_memcpy.cc:74 ApplyImpl] 8 Memcpy nodes are added to the graph main_graph for CUDAExecutionProvider. It might have negative impact on performance (including unable to run CUDA graph). Set session_options.log_severity_level=1 to see the detail logs before this message.\u001b[m\n",
      "\u001b[0;93m2025-04-19 19:46:35.697676173 [W:onnxruntime:, session_state.cc:1166 VerifyEachNodeIsAssignedToAnEp] Some nodes were not assigned to the preferred execution providers which may or may not have an negative impact on performance. e.g. ORT explicitly assigns shape related ops to CPU to improve perf.\u001b[m\n",
      "\u001b[0;93m2025-04-19 19:46:35.697686892 [W:onnxruntime:, session_state.cc:1168 VerifyEachNodeIsAssignedToAnEp] Rerunning with verbose output on a non-minimal build will show node assignments.\u001b[m\n",
      "  0%|                                                                                                     | 0/1 [00:00<?, ?it/s]2025-04-19 19:46:41,474 INFO synthesis text 공룡이 밤양갱을 몰래 먹고 도망쳤어요。\n"
     ]
    },
    {
     "name": "stdout",
     "output_type": "stream",
     "text": [
      "text.cc: festival_Text_init\n",
      "open voice lang map failed\n"
     ]
    },
    {
     "name": "stderr",
     "output_type": "stream",
     "text": [
      "2025-04-19 19:46:46,661 INFO yield speech len 5.92, rtf 0.8762226314158054\n",
      "100%|█████████████████████████████████████████████████████████████████████████████████████████████| 1/1 [00:06<00:00,  6.36s/it]\n"
     ]
    }
   ],
   "source": [
    "cosyvoice = CosyVoice2('pretrained_models/CosyVoice2-0.5B', load_jit=False, load_trt=False, fp16=False, use_flow_cache=False)\n",
    "\n",
    "# 프롬프트로 사용할 음성 파일 (화자의 목소리 담긴 wav, 16kHz로)\n",
    "prompt_speech_16k = load_wav('./asset/tts_test.wav', 16000)\n",
    "\n",
    "for i, j in enumerate(\n",
    "    cosyvoice.inference_zero_shot(\n",
    "        '공룡이 밤양갱을 몰래 먹고 도망쳤어요.', #tts할 문장\n",
    "        prompt_text='오느른 커피 안 마실 꺼야', #tts_test의 발음문장\n",
    "        prompt_speech_16k=prompt_speech_16k,\n",
    "        text_frontend=True, \n",
    "    )\n",
    "):\n",
    "    torchaudio.save(f'korean_tts_{i}.wav', j['tts_speech'], cosyvoice.sample_rate)"
   ]
  },
  {
   "cell_type": "code",
   "execution_count": null,
   "id": "899101b0-3556-4ab5-8477-d182da48357d",
   "metadata": {},
   "outputs": [],
   "source": []
  }
 ],
 "metadata": {
  "kernelspec": {
   "display_name": "Python (cosyvoice)",
   "language": "python",
   "name": "cosyvoice"
  },
  "language_info": {
   "codemirror_mode": {
    "name": "ipython",
    "version": 3
   },
   "file_extension": ".py",
   "mimetype": "text/x-python",
   "name": "python",
   "nbconvert_exporter": "python",
   "pygments_lexer": "ipython3",
   "version": "3.10.16"
  }
 },
 "nbformat": 4,
 "nbformat_minor": 5
}
